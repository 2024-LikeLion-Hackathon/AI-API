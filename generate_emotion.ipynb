{
 "cells": [
  {
   "cell_type": "code",
   "execution_count": 1,
   "metadata": {},
   "outputs": [],
   "source": [
    "from utils import text, data"
   ]
  },
  {
   "cell_type": "code",
   "execution_count": 2,
   "metadata": {},
   "outputs": [],
   "source": [
    "diary_text = \"\"\"\n",
    "오늘 하루는 피곤하고 스트레스가 많았다. 회사에서 마감일이 다가와 업무가 산더미처럼 쌓였다.\n",
    "점심시간에 잠깐 산책을 하며 마음을 가라앉혔지만, 돌아오니 다시 업무가 쌓여 있었다.\n",
    "그래도 동료들과 함께 힘을 내어 열심히 일한 덕분에 중요한 일을 마무리할 수 있었다. \n",
    "집에 와서 따뜻한 차 한 잔 마시며 하루를 정리하니 조금 마음이 편해졌다. 내일은 더 나은 하루가 되길 기대해 본다.\n",
    "\"\"\""
   ]
  },
  {
   "cell_type": "code",
   "execution_count": 3,
   "metadata": {},
   "outputs": [],
   "source": [
    "diary_score = text.text_to_score(diary_text)"
   ]
  },
  {
   "cell_type": "code",
   "execution_count": 4,
   "metadata": {},
   "outputs": [],
   "source": [
    "emotion_lst = data.extract_similar_emotion('data/emotion.csv',diary_score)"
   ]
  },
  {
   "cell_type": "code",
   "execution_count": 5,
   "metadata": {},
   "outputs": [
    {
     "data": {
      "text/plain": [
       "['가뜬하다',\n",
       " '간절한',\n",
       " '감복하다',\n",
       " '감홍',\n",
       " '감회',\n",
       " '경외하다',\n",
       " '계면쩍은',\n",
       " '고무되다',\n",
       " '그립다',\n",
       " '놀랍다',\n",
       " '달가워하다',\n",
       " '목이 메이는',\n",
       " '몸 둘 바를 모르는',\n",
       " '뭉클하다',\n",
       " '손에 땀을 쥐는 듯한',\n",
       " '안도하다',\n",
       " '애',\n",
       " '애착',\n",
       " '애틋하다',\n",
       " '어리둥절한',\n",
       " '얼떨떨하다',\n",
       " '연모하다',\n",
       " '우수',\n",
       " '짝사랑하다',\n",
       " '태평스럽다',\n",
       " '팔팔한',\n",
       " '황공하다',\n",
       " '흥분',\n",
       " '흥취',\n",
       " '희희낙락하다']"
      ]
     },
     "execution_count": 5,
     "metadata": {},
     "output_type": "execute_result"
    }
   ],
   "source": [
    "emotion_lst"
   ]
  },
  {
   "cell_type": "code",
   "execution_count": null,
   "metadata": {},
   "outputs": [],
   "source": []
  }
 ],
 "metadata": {
  "kernelspec": {
   "display_name": ".venv",
   "language": "python",
   "name": "python3"
  },
  "language_info": {
   "codemirror_mode": {
    "name": "ipython",
    "version": 3
   },
   "file_extension": ".py",
   "mimetype": "text/x-python",
   "name": "python",
   "nbconvert_exporter": "python",
   "pygments_lexer": "ipython3",
   "version": "3.12.0"
  }
 },
 "nbformat": 4,
 "nbformat_minor": 2
}
