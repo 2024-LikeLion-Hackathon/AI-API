{
 "cells": [
  {
   "cell_type": "code",
   "execution_count": 2,
   "metadata": {},
   "outputs": [
    {
     "name": "stderr",
     "output_type": "stream",
     "text": [
      "c:\\Users\\hg\\Desktop\\새 폴더\\AI-API\\.venv\\Lib\\site-packages\\langchain_core\\_api\\deprecation.py:139: LangChainDeprecationWarning: The class `ChatOpenAI` was deprecated in LangChain 0.0.10 and will be removed in 0.3.0. An updated version of the class exists in the langchain-openai package and should be used instead. To use it run `pip install -U langchain-openai` and import as `from langchain_openai import ChatOpenAI`.\n",
      "  warn_deprecated(\n"
     ]
    },
    {
     "name": "stdout",
     "output_type": "stream",
     "text": [
      "Running on local URL:  http://127.0.0.1:7860\n",
      "\n",
      "Could not create share link. Please check your internet connection or our status page: https://status.gradio.app.\n"
     ]
    },
    {
     "data": {
      "text/html": [
       "<div><iframe src=\"http://127.0.0.1:7860/\" width=\"100%\" height=\"500\" allow=\"autoplay; camera; microphone; clipboard-read; clipboard-write;\" frameborder=\"0\" allowfullscreen></iframe></div>"
      ],
      "text/plain": [
       "<IPython.core.display.HTML object>"
      ]
     },
     "metadata": {},
     "output_type": "display_data"
    },
    {
     "data": {
      "text/plain": []
     },
     "execution_count": 2,
     "metadata": {},
     "output_type": "execute_result"
    }
   ],
   "source": [
    "from langchain.chat_models import ChatOpenAI\n",
    "from langchain.schema import AIMessage, HumanMessage, SystemMessage\n",
    "import gradio as gr\n",
    "import os, utils.api as api\n",
    "\n",
    "os.environ[\"OPENAI_API_KEY\"] = api.get_api_key()\n",
    "\n",
    "llm = ChatOpenAI(temperature=1.0, model='gpt-4o')\n",
    "\n",
    "def response(message, history):\n",
    "        history_langchain_format = []\n",
    "        # additional_input_info로 받은 시스템 프롬프트를 랭체인에게 전달할 메시지에 포함시킨다.\n",
    "        history_langchain_format.append(SystemMessage(content= api.get_sys_text()))\n",
    "        for human, ai in history:\n",
    "                history_langchain_format.append(HumanMessage(content=human))\n",
    "                history_langchain_format.append(AIMessage(content=ai))\n",
    "        history_langchain_format.append(HumanMessage(content=message))\n",
    "        gpt_response = llm(history_langchain_format)\n",
    "        return gpt_response.content\n",
    "\n",
    "gr.ChatInterface(\n",
    "        fn=response,\n",
    "        textbox=gr.Textbox(placeholder=\"말걸어주세요..\", container=False, scale=7),\n",
    "        # 채팅창의 크기를 조절한다.\n",
    "        chatbot=gr.Chatbot(height=1000),\n",
    "        title=\"어떤 챗봇을 원하심미까?\",\n",
    "        description=\"물어보면 답하는 챗봇임미다.\",\n",
    "        theme=\"soft\",\n",
    "        examples=[[\"안뇽\"], [\"요즘 덥다 ㅠㅠ\"], [\"점심메뉴 추천바람, 짜장 짬뽕 택 1\"]],\n",
    "        retry_btn=\"다시보내기 ↩\",\n",
    "        undo_btn=\"이전챗 삭제 ❌\",\n",
    "        clear_btn=\"전챗 삭제 💫\",\n",
    "        #additional_inputs=[\n",
    "        #    gr.Textbox(\"\", label=\"System Prompt를 입력해주세요\", placeholder=\"I'm lovely chatbot.\")\n",
    "        #]\n",
    ").launch(share=True)"
   ]
  },
  {
   "cell_type": "code",
   "execution_count": null,
   "metadata": {},
   "outputs": [],
   "source": []
  }
 ],
 "metadata": {
  "kernelspec": {
   "display_name": ".venv",
   "language": "python",
   "name": "python3"
  },
  "language_info": {
   "codemirror_mode": {
    "name": "ipython",
    "version": 3
   },
   "file_extension": ".py",
   "mimetype": "text/x-python",
   "name": "python",
   "nbconvert_exporter": "python",
   "pygments_lexer": "ipython3",
   "version": "3.11.9"
  }
 },
 "nbformat": 4,
 "nbformat_minor": 2
}
