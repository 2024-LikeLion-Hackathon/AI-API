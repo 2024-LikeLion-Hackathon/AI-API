{
 "cells": [
  {
   "cell_type": "code",
   "execution_count": null,
   "metadata": {},
   "outputs": [],
   "source": [
    "from utils import image\n",
    "\n",
    "\n",
    "example_input = ['강아지', '침대', '맥북', '테니스 공', '버스 정류장']"
   ]
  },
  {
   "cell_type": "code",
   "execution_count": null,
   "metadata": {},
   "outputs": [],
   "source": [
    "prompt = image.lst_to_str(example_input)\n",
    "prompt"
   ]
  },
  {
   "cell_type": "code",
   "execution_count": null,
   "metadata": {},
   "outputs": [],
   "source": [
    "url = image.generate(prompt=prompt)\n",
    "# 좀 더 프롬프트 형식을 지정해줘야 할 것으로 보임\n",
    "url"
   ]
  },
  {
   "cell_type": "code",
   "execution_count": null,
   "metadata": {},
   "outputs": [],
   "source": [
    "url[0].url"
   ]
  },
  {
   "cell_type": "code",
   "execution_count": null,
   "metadata": {},
   "outputs": [],
   "source": [
    "import requests\n",
    "\n",
    "response = requests.get(url[0].url)"
   ]
  },
  {
   "cell_type": "code",
   "execution_count": null,
   "metadata": {},
   "outputs": [],
   "source": [
    "if response.status_code == 200:\n",
    "    with open('image.png', 'wb') as file:\n",
    "        file.write(response.content)\n",
    "        "
   ]
  },
  {
   "cell_type": "code",
   "execution_count": 1,
   "metadata": {},
   "outputs": [
    {
     "name": "stdout",
     "output_type": "stream",
     "text": [
      "\"강아지가 침대 옆에서 물고 놀고 있는 테니스 공, 그 앞에 맥북이 놓여 있고, 창 밖 버스 정류장에서 버스가 기다리는 장면을 픽셀 아트로 그려줘.\"\n"
     ]
    }
   ],
   "source": [
    "from utils import image\n",
    "\n",
    "lst = ['강아지', '침대', '맥북', '테니스 공', '버스 정류장' ]\n",
    "\n",
    "words_prompt = image.words_lst_to_str(lst)\n",
    "prompt = image.words_str_prompting(words_prompt)\n",
    "print(prompt)\n"
   ]
  },
  {
   "cell_type": "code",
   "execution_count": 2,
   "metadata": {},
   "outputs": [],
   "source": [
    "url = image.generate_image(prompt)"
   ]
  },
  {
   "cell_type": "code",
   "execution_count": 3,
   "metadata": {},
   "outputs": [
    {
     "data": {
      "text/plain": [
       "'https://oaidalleapiprodscus.blob.core.windows.net/private/org-HgTUGupS4dNe3VNBdFPOzaJy/user-M5poCEhkI0N2ucgRWMbeEjsA/img-jQT0XDK0qv8iz4yEugPMpQRR.png?st=2024-07-26T02%3A10%3A31Z&se=2024-07-26T04%3A10%3A31Z&sp=r&sv=2023-11-03&sr=b&rscd=inline&rsct=image/png&skoid=6aaadede-4fb3-4698-a8f6-684d7786b067&sktid=a48cca56-e6da-484e-a814-9c849652bcb3&skt=2024-07-25T23%3A43%3A58Z&ske=2024-07-26T23%3A43%3A58Z&sks=b&skv=2023-11-03&sig=uw6hVhT2/tTBulc5I2O3jqf1hxmkAnweHAnMLfYBiDg%3D'"
      ]
     },
     "execution_count": 3,
     "metadata": {},
     "output_type": "execute_result"
    }
   ],
   "source": [
    "url"
   ]
  },
  {
   "cell_type": "code",
   "execution_count": null,
   "metadata": {},
   "outputs": [],
   "source": []
  }
 ],
 "metadata": {
  "kernelspec": {
   "display_name": ".venv",
   "language": "python",
   "name": "python3"
  },
  "language_info": {
   "codemirror_mode": {
    "name": "ipython",
    "version": 3
   },
   "file_extension": ".py",
   "mimetype": "text/x-python",
   "name": "python",
   "nbconvert_exporter": "python",
   "pygments_lexer": "ipython3",
   "version": "3.11.9"
  }
 },
 "nbformat": 4,
 "nbformat_minor": 2
}
